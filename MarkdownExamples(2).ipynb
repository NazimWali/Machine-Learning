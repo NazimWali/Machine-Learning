{
 "cells": [
  {
   "cell_type": "markdown",
   "metadata": {},
   "source": [
    "#  <div style=\"text-align:center; color:blue\"> Markdown for Jupyterlab notebooks </div>\n"
   ]
  },
  {
   "attachments": {
    "822134e9-4a95-47fc-ba54-9f46e8bd2ad9.png": {
     "image/png": "[encoded data removed]"
    }
   },
   "cell_type": "markdown",
   "metadata": {},
   "source": [
    "### To create markdown input, make sure you select the input cell to be Markdown rather than the default \"Code\"</div>\n",
    "![Screenshot_20210207_193652.png](attachment:822134e9-4a95-47fc-ba54-9f46e8bd2ad9.png)\n"
   ]
  },
  {
   "cell_type": "markdown",
   "metadata": {},
   "source": [
    "# level 1 heading, same as `<h1>` tag in html\n",
    "## level 2 heading, same as `<h2>` tag in html\n",
    "### level 3 heading, same as `<h3>` tag in html\n",
    "#### level 4 heading, same as `<h4>` tag in html"
   ]
  },
  {
   "cell_type": "markdown",
   "metadata": {},
   "source": [
    "### To change font color use a css style statement:\n",
    "\n",
    "\n",
    "<div style=\"color:blue\"> This must be in blue color</div>\n",
    "<div style=\"color:red\"> This must be in red color</div>"
   ]
  },
  {
   "cell_type": "markdown",
   "metadata": {},
   "source": [
    " \n",
    "### Unnumbered lists  \n",
    "\n",
    "\n",
    "+ Supervised and Unsupervised Machine Learning\n",
    "+ What is not Machine Learning\n",
    "+ Classification problems, classification techniques\n",
    " \n",
    "\n",
    "### Numbered list\n",
    "\n",
    "These are rendered as:\n",
    "1. recognize situations that lend themselves to machine learning techniques, and \n",
    "2. implement and evaluate the most commonly used machine learning techniques.\n"
   ]
  },
  {
   "cell_type": "markdown",
   "metadata": {},
   "source": [
    "### Italics and bold font faces\n",
    "\n",
    "You can produce *italics* and **bold** font faces."
   ]
  },
  {
   "cell_type": "markdown",
   "metadata": {},
   "source": [
    "###  To produce math expressions, use $latex$ markup\n",
    "If you type: `This is an inline math expression --- $\\sum_{i=1}^n P(X_i|C)$ <br> <br>` and run the cell, you will get:\n",
    "\n",
    "This is an inline math expression --- $\\sum_{i=1}^n P(X_i|C)$ <br> <br>\n",
    "\n",
    "You can show a displayed expression by typing: `$$\\sum_{i=0}^2 \\frac{P(C_j|X_i)}{P(X_i)}$$`\n",
    "\n",
    "This is a display math expression: \n",
    "$$\\sum_{i=0}^2 \\frac{P(C_j|X_i)}{P(X_i)}$$"
   ]
  },
  {
   "cell_type": "markdown",
   "metadata": {},
   "source": [
    "### To produce horizontal lines, use `***` \n",
    "\n",
    "***\n",
    "***"
   ]
  },
  {
   "cell_type": "markdown",
   "metadata": {},
   "source": [
    "### To create a link in your notebook, do something like:\n",
    " `[Click to get google](https://www.google.com)`\n",
    " Make sure you mark the cell as Markdown, not Code.\n",
    " This will produce<br>\n",
    "\n",
    "[Click to get google](https://www.google.com)"
   ]
  },
  {
   "cell_type": "markdown",
   "metadata": {},
   "source": [
    "<!--\n",
    "<span style='font-size:30px;'> &#9855;</span>\n",
    "-->"
   ]
  },
  {
   "cell_type": "markdown",
   "metadata": {},
   "source": [
    "### You can create code blocks with triple backticks\n",
    "\n",
    "\n",
    "```   \n",
    " def f(x):\n",
    "    return x+3*x\n",
    " ```"
   ]
  },
  {
   "cell_type": "code",
   "execution_count": null,
   "metadata": {},
   "outputs": [],
   "source": []
  },
  {
   "cell_type": "code",
   "execution_count": null,
   "metadata": {},
   "outputs": [],
   "source": []
  }
 ],
 "metadata": {
  "kernelspec": {
   "display_name": "Python 3 (ipykernel)",
   "language": "python",
   "name": "python3"
  },
  "language_info": {
   "codemirror_mode": {
    "name": "ipython",
    "version": 3
   },
   "file_extension": ".py",
   "mimetype": "text/x-python",
   "name": "python",
   "nbconvert_exporter": "python",
   "pygments_lexer": "ipython3",
   "version": "3.9.9"
  }
 },
 "nbformat": 4,
 "nbformat_minor": 4
}
